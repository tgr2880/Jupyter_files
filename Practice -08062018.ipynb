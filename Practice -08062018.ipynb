{
 "cells": [
  {
   "cell_type": "markdown",
   "metadata": {},
   "source": [
    "## Learning python script"
   ]
  },
  {
   "cell_type": "code",
   "execution_count": 1,
   "metadata": {},
   "outputs": [],
   "source": [
    "import numpy as np\n",
    "import pandas as pd\n",
    "x2 = [[12,  5,  2,  4],\n",
    "       [ 7,  6,  8,  8],\n",
    "       [ 1,  6,  7,  7]]\n",
    "\n",
    "x3 = np.array([[12,  5,  2,  4],\n",
    "       [ 7,  6,  8,  8],\n",
    "       [ 1,  6,  7,  7]])"
   ]
  },
  {
   "cell_type": "code",
   "execution_count": 2,
   "metadata": {},
   "outputs": [
    {
     "name": "stdout",
     "output_type": "stream",
     "text": [
      "[[12  5  2  4]\n",
      " [ 7  6  8  8]\n",
      " [ 1  6  7  7]]\n"
     ]
    }
   ],
   "source": [
    "print(x3)"
   ]
  },
  {
   "cell_type": "code",
   "execution_count": 3,
   "metadata": {},
   "outputs": [
    {
     "data": {
      "text/plain": [
       "array([[12,  5,  2],\n",
       "       [ 7,  6,  8]])"
      ]
     },
     "execution_count": 3,
     "metadata": {},
     "output_type": "execute_result"
    }
   ],
   "source": [
    "x3[:2, :3]  # two rows, three columns"
   ]
  },
  {
   "cell_type": "code",
   "execution_count": 4,
   "metadata": {},
   "outputs": [],
   "source": [
    "x = np.array([[1, 2, 7], [7, 7, 1]]);\n",
    "y = np.array([[6, 5, 5], [0, 6, 1]])"
   ]
  },
  {
   "cell_type": "code",
   "execution_count": 5,
   "metadata": {},
   "outputs": [
    {
     "name": "stdout",
     "output_type": "stream",
     "text": [
      "[[-5 -3  2]\n",
      " [ 7  1  0]]\n"
     ]
    }
   ],
   "source": [
    "print(x-y)"
   ]
  },
  {
   "cell_type": "code",
   "execution_count": 6,
   "metadata": {},
   "outputs": [
    {
     "name": "stdout",
     "output_type": "stream",
     "text": [
      "[[ 7  7 12]\n",
      " [ 7 13  2]]\n"
     ]
    }
   ],
   "source": [
    "print(x+y)"
   ]
  },
  {
   "cell_type": "code",
   "execution_count": 7,
   "metadata": {},
   "outputs": [
    {
     "name": "stdout",
     "output_type": "stream",
     "text": [
      "[[0.16666667 0.4        1.4       ]\n",
      " [       inf 1.16666667 1.        ]]\n"
     ]
    },
    {
     "name": "stderr",
     "output_type": "stream",
     "text": [
      "C:\\Users\\ganga\\Anaconda3\\lib\\site-packages\\ipykernel_launcher.py:1: RuntimeWarning: divide by zero encountered in true_divide\n",
      "  \"\"\"Entry point for launching an IPython kernel.\n"
     ]
    }
   ],
   "source": [
    "print(x/y)"
   ]
  },
  {
   "cell_type": "code",
   "execution_count": 8,
   "metadata": {},
   "outputs": [
    {
     "ename": "SyntaxError",
     "evalue": "invalid syntax (<ipython-input-8-015c3062c63c>, line 3)",
     "output_type": "error",
     "traceback": [
      "\u001b[1;36m  File \u001b[1;32m\"<ipython-input-8-015c3062c63c>\"\u001b[1;36m, line \u001b[1;32m3\u001b[0m\n\u001b[1;33m    x %% y\u001b[0m\n\u001b[1;37m       ^\u001b[0m\n\u001b[1;31mSyntaxError\u001b[0m\u001b[1;31m:\u001b[0m invalid syntax\n"
     ]
    }
   ],
   "source": [
    "x <- 12\n",
    "y <- 4\n",
    "x %% y"
   ]
  },
  {
   "cell_type": "code",
   "execution_count": null,
   "metadata": {},
   "outputs": [],
   "source": [
    "mood <- c(\"happy\", \"unhappy\", \"unhappy\", \"happy\")\n",
    "factor(mood, levels = c(\"unhappy\", \"happy\"), ordered = mood)"
   ]
  },
  {
   "cell_type": "code",
   "execution_count": null,
   "metadata": {},
   "outputs": [],
   "source": [
    "c(3, 1, 2, 1) * c(1, 2, 1, 1)"
   ]
  },
  {
   "cell_type": "code",
   "execution_count": null,
   "metadata": {},
   "outputs": [],
   "source": [
    "def solve(numheads,numlegs):\n",
    "    ns='No solutions!'\n",
    "    for i in range(numheads+1):\n",
    "        j=numheads-i\n",
    "        if 2*i+4*j==numlegs:\n",
    "            return i,j\n",
    "    return ns,ns\n",
    "numheads=35\n",
    "numlegs=94\n",
    "solutions=solve(numheads,numlegs)\n",
    "print(solutions)"
   ]
  },
  {
   "cell_type": "code",
   "execution_count": null,
   "metadata": {},
   "outputs": [],
   "source": [
    "print(list(permutations([1,2,3])))"
   ]
  },
  {
   "cell_type": "code",
   "execution_count": null,
   "metadata": {},
   "outputs": [],
   "source": [
    "from itertools import permutations\n",
    "x = [1,2,3]\n",
    "print(list(permutations(x, 2)))"
   ]
  },
  {
   "cell_type": "code",
   "execution_count": null,
   "metadata": {},
   "outputs": [],
   "source": [
    "print(list(permutations([1,2,3])))"
   ]
  },
  {
   "cell_type": "code",
   "execution_count": null,
   "metadata": {
    "scrolled": true
   },
   "outputs": [],
   "source": [
    "s=[H1e2l3l4o5w6o7r8l9d]\n",
    "s = s[::2]\n",
    "print(s)"
   ]
  },
  {
   "cell_type": "markdown",
   "metadata": {},
   "source": [
    "##   Remove duplicate values from list."
   ]
  },
  {
   "cell_type": "code",
   "execution_count": null,
   "metadata": {},
   "outputs": [],
   "source": [
    "li=[12,24,35,24,88,120,155,88,120,155]\n",
    "def removeDuplicate( li ):\n",
    "    newli=[]\n",
    "    seen = set()\n",
    "    for item in li:\n",
    "        if item not in seen:\n",
    "            seen.add( item )\n",
    "            newli.append(item)\n",
    "\n",
    "    return newli\n",
    "\n",
    "print (removeDuplicate(li))\n"
   ]
  },
  {
   "cell_type": "markdown",
   "metadata": {},
   "source": [
    "## Intersection operation from both list \n",
    "#### Use set() and \"&=\" to do set intersection operation."
   ]
  },
  {
   "cell_type": "code",
   "execution_count": null,
   "metadata": {},
   "outputs": [],
   "source": [
    "set1=set([1,3,6,78,35,55,120])\n",
    "set2=set([12,24,35,24,88,120,155,55])\n",
    "set1 &= set2\n",
    "list = (set1)\n",
    "print(list)"
   ]
  },
  {
   "cell_type": "markdown",
   "metadata": {},
   "source": [
    "## Use list's remove method to delete a value."
   ]
  },
  {
   "cell_type": "code",
   "execution_count": null,
   "metadata": {},
   "outputs": [],
   "source": [
    "list = set([12,24,35,24,88,120,155,55])\n",
    "list = [x for x in list if x!=24]\n",
    "print(list)"
   ]
  },
  {
   "cell_type": "markdown",
   "metadata": {},
   "source": [
    "## Use list comprehension to delete a bunch of element from a list. Use enumerate() to get (index, value) tuple. ( remove 0th,3rd,4th position)"
   ]
  },
  {
   "cell_type": "code",
   "execution_count": null,
   "metadata": {},
   "outputs": [],
   "source": [
    "list1 = [12,24,35,24,88,120,155,55]\n",
    "list1 = [x for (i,x) in enumerate(list1) if i not in (0,3,4)]\n",
    "print(list1)\n",
    "## -----------------------------------------------\n",
    "list2 = [12,24,35,24,88,120,155,55]\n",
    "list2 = [x for (i,x) in enumerate(list2) if i%2 != 0]\n",
    "print(list2)"
   ]
  },
  {
   "cell_type": "markdown",
   "metadata": {},
   "source": [
    "###   By using list comprehension, please write a program generate a 3*5*8 3D array whose each element is 0."
   ]
  },
  {
   "cell_type": "code",
   "execution_count": null,
   "metadata": {},
   "outputs": [],
   "source": [
    "array1 = [[ [0 for col in range(8)] for col in range(5)] for row in range(3)]\n",
    "print (array1)\n"
   ]
  },
  {
   "cell_type": "markdown",
   "metadata": {},
   "source": [
    "###  By using list comprehension, please write a program to print the list after removing delete numbers which are divisible by 5 and 7 in list."
   ]
  },
  {
   "cell_type": "code",
   "execution_count": null,
   "metadata": {},
   "outputs": [],
   "source": [
    "x = [12,24,35,70,88,120,155,55,60,65]\n",
    "list = [x for x in list if x%5 != 0 and x%7 != 0]\n",
    "print(list)"
   ]
  },
  {
   "cell_type": "markdown",
   "metadata": {},
   "source": [
    "### Write a program which will find all such numbers which are divisible by 7 but are not a multiple of 5"
   ]
  },
  {
   "cell_type": "code",
   "execution_count": null,
   "metadata": {},
   "outputs": [],
   "source": [
    "l=[]  # strat with null\n",
    "for i in range(200, 321):\n",
    "    if (i%7==0) and (i%5!=0):\n",
    "        l.append(str(i))\n",
    "\n",
    "print (','.join(l))"
   ]
  },
  {
   "cell_type": "markdown",
   "metadata": {},
   "source": [
    "### ???"
   ]
  },
  {
   "cell_type": "code",
   "execution_count": null,
   "metadata": {},
   "outputs": [],
   "source": [
    "%debug"
   ]
  },
  {
   "cell_type": "code",
   "execution_count": null,
   "metadata": {},
   "outputs": [],
   "source": [
    "li = [34,67,55,33,12,98]\n",
    "#values=li\n",
    "#l=values.split(\",\")\n",
    "#t=tuple(l)\n",
    "#print (l)\n",
    "#print (t)\n",
    "\n",
    "#lst = ['a', 'b']\n",
    "tup = tuple(li)\n",
    "#li.append('a')\n",
    "another_tuple = tuple(li)\n",
    "print(another_tuple)"
   ]
  },
  {
   "cell_type": "code",
   "execution_count": null,
   "metadata": {},
   "outputs": [],
   "source": [
    "import math\n",
    "c=50\n",
    "h=30\n",
    "value = list([34,67,55,33,12,98])\n",
    "items=[x for x in raw_input().split(',')]\n",
    "for d in items:\n",
    "    value.append(str(int(round(math.sqrt(2*c*float(d)/h)))))\n",
    "\n",
    "print (','.join(value))"
   ]
  },
  {
   "cell_type": "code",
   "execution_count": null,
   "metadata": {},
   "outputs": [],
   "source": [
    "if 0!=-1:\n",
    "    print (\"Good!\")\n",
    "\n",
    "while 0!=-1:\n",
    "    print (\"BWAHAHAHA\")\n",
    "\n",
    "for i in range(1,10):\n",
    "    print (i)\n",
    "    \n",
    "try:\n",
    "    print (blah)\n",
    "except NameError:\n",
    "    print (\"Blah is not defined\")"
   ]
  },
  {
   "cell_type": "code",
   "execution_count": null,
   "metadata": {},
   "outputs": [],
   "source": [
    "f = open('my_file.dat')\n",
    "data = f.readfile()\n",
    "print('Loaded data')"
   ]
  },
  {
   "cell_type": "code",
   "execution_count": null,
   "metadata": {},
   "outputs": [],
   "source": [
    "try:\n",
    "    f = open('my_file.dat')\n",
    "    f.readfile()\n",
    "    print('Loaded data')\n",
    "except:\n",
    "    print('Data not loaded')"
   ]
  },
  {
   "cell_type": "code",
   "execution_count": null,
   "metadata": {},
   "outputs": [],
   "source": [
    "try:\n",
    "    file = open('my_file.dat')\n",
    "    data = file.readfile()\n",
    "    print('Data Loaded')\n",
    "except FileNotFoundError:\n",
    "    print('This file doesn\\'t exist')"
   ]
  },
  {
   "cell_type": "code",
   "execution_count": null,
   "metadata": {},
   "outputs": [],
   "source": [
    "try:\n",
    "    file = open('my_file.dat')\n",
    "    data = file.readfile()\n",
    "    print('Data Loaded')\n",
    "except:\n",
    "    file = open('my_file.dat', 'w')\n",
    "    print('File created')"
   ]
  },
  {
   "cell_type": "code",
   "execution_count": null,
   "metadata": {},
   "outputs": [],
   "source": [
    "filename = 'my_data.dat'\n",
    "try:\n",
    "    file = open(filename)\n",
    "    data = file.readfile()\n",
    "except FileNotFoundError:\n",
    "    file = open(filename, 'w')\n",
    "    print('Created file')\n",
    "except AttributeError:\n",
    "    print('Attribute Error')"
   ]
  },
  {
   "cell_type": "code",
   "execution_count": null,
   "metadata": {},
   "outputs": [],
   "source": [
    "filename = 'my_data.dat'\n",
    "try:\n",
    "    file = open(filename)\n",
    "    data = file.read()\n",
    "    important_data = data[0]\n",
    "except FileNotFoundError:\n",
    "    file = open(filename, 'w')\n",
    "    print('Created file')\n",
    "except AttributeError:\n",
    "    print('Attribute Error')\n",
    "except:\n",
    "    print('Unhandled exception')"
   ]
  },
  {
   "cell_type": "code",
   "execution_count": null,
   "metadata": {},
   "outputs": [],
   "source": [
    "filename = 'my_data.dat'\n",
    "\n",
    "try:\n",
    "    file = open(filename)\n",
    "    data = file.read()\n",
    "    important_data = data[0]\n",
    "except Exception as e:\n",
    "    print('Unhandled exception')\n",
    "    if isinstance(e, IndexError):\n",
    "        print(e)\n",
    "        data = 'Information'\n",
    "        important_data = data[0]\n",
    "\n",
    "print(important_data)"
   ]
  },
  {
   "cell_type": "code",
   "execution_count": null,
   "metadata": {},
   "outputs": [],
   "source": [
    "filename = 'my_data.dat'\n",
    "\n",
    "try:\n",
    "    file = open(filename)\n",
    "except FileNotFoundError:\n",
    "    print('File not found, creating one')\n",
    "    file = open(filename, 'w')\n",
    "else:\n",
    "    new_file = open(new_filename)\n",
    "    data = new_file.read()\n",
    "finally:\n",
    "    file.close()"
   ]
  },
  {
   "cell_type": "code",
   "execution_count": null,
   "metadata": {},
   "outputs": [],
   "source": [
    "from exceptions import NonPositiveError\n",
    "from tools import average\n",
    "\n",
    "try:\n",
    "    avg = average(1, -2)\n",
    "except NonPositiveError:\n",
    "    avg = 0"
   ]
  },
  {
   "cell_type": "code",
   "execution_count": null,
   "metadata": {},
   "outputs": [],
   "source": [
    "a = 'hello';\n",
    "lia = list(a)  # ['h', 'e', 'l', 'l', 'o'] \n",
    "lis = set(a)   # {'o', 'e', 'l', 'h'} \n",
    "lit = tuple(a) # ('h', 'e', 'l', 'l', 'o') \n",
    "print(lia)\n",
    "print(lis)\n",
    "print(lit)"
   ]
  },
  {
   "cell_type": "code",
   "execution_count": null,
   "metadata": {},
   "outputs": [],
   "source": [
    "mytuple = list((\"apple\", \"banana\", \"cherry\"))\n",
    "\n",
    "for x1 in mytuple:\n",
    "  print(x1)\n",
    "\n",
    "mytuple = list((\"apple\"))\n",
    "for x in mytuple:\n",
    "    print(x)"
   ]
  },
  {
   "cell_type": "code",
   "execution_count": null,
   "metadata": {},
   "outputs": [],
   "source": [
    "thistuple = tuple((\"apple\", \"banana\", \"cherry\"))\n",
    "\n",
    "for y in thistuple:\n",
    " print(y)"
   ]
  },
  {
   "cell_type": "code",
   "execution_count": null,
   "metadata": {},
   "outputs": [],
   "source": [
    "class MyNumbers:\n",
    "  def __iter__(num):\n",
    "    num.a = 1\n",
    "    return num\n",
    "\n",
    "  def __next__(self):\n",
    "    if self.a <= 12:\n",
    "      x = self.a\n",
    "      self.a += 1\n",
    "      return x\n",
    "    else:\n",
    "      raise StopIteration\n",
    "\n",
    "myclass = MyNumbers()\n",
    "myiter = iter(myclass)\n",
    "\n",
    "for x in myiter:\n",
    "  print(x)"
   ]
  },
  {
   "cell_type": "code",
   "execution_count": null,
   "metadata": {},
   "outputs": [],
   "source": [
    "def my_function(x):\n",
    "  return 5 * x\n",
    "\n",
    "print(my_function(5))\n",
    "print(my_function(10))\n",
    "print(my_function(15))"
   ]
  },
  {
   "cell_type": "code",
   "execution_count": null,
   "metadata": {},
   "outputs": [],
   "source": [
    "x=lambda a, b, c, d: a*b+c-d\n",
    "print(x(2,3,9,3))"
   ]
  },
  {
   "cell_type": "code",
   "execution_count": null,
   "metadata": {},
   "outputs": [],
   "source": [
    "import datetime\n",
    "\n",
    "x = datetime.datetime.now()\n",
    "\n",
    "print(x.strftime(\"%x\"))"
   ]
  },
  {
   "cell_type": "code",
   "execution_count": null,
   "metadata": {},
   "outputs": [],
   "source": [
    "f = open(\"\\PycharmProjects\\demofile.txt\", \"r\")\n",
    "#print(f.read())\n",
    "#print(f.read(5))\n",
    "for x in f:\n",
    "    print(x)"
   ]
  },
  {
   "cell_type": "code",
   "execution_count": null,
   "metadata": {},
   "outputs": [],
   "source": [
    "f = open(\"\\PycharmProjects\\demofile.txt\", \"a\")\n",
    "f.write(\"Now the file has one more line!\")"
   ]
  },
  {
   "cell_type": "code",
   "execution_count": null,
   "metadata": {},
   "outputs": [],
   "source": [
    "f = open(\"\\PycharmProjects\\demofile.txt\", \"r\")\n",
    "print(f.read())"
   ]
  },
  {
   "cell_type": "code",
   "execution_count": null,
   "metadata": {},
   "outputs": [],
   "source": [
    "f = open(\"myfile.txt\", \"x\")"
   ]
  },
  {
   "cell_type": "code",
   "execution_count": null,
   "metadata": {},
   "outputs": [],
   "source": [
    "f = open(\"myfile.txt\", \"a\")\n",
    "f.write(\"Now the file has one more line!\")"
   ]
  },
  {
   "cell_type": "code",
   "execution_count": null,
   "metadata": {},
   "outputs": [],
   "source": [
    "f = open(\"myfile.txt\", \"r\")\n",
    "print(f.read())"
   ]
  },
  {
   "cell_type": "code",
   "execution_count": null,
   "metadata": {},
   "outputs": [],
   "source": []
  },
  {
   "cell_type": "code",
   "execution_count": null,
   "metadata": {},
   "outputs": [],
   "source": [
    "import numpy as np\n",
    "m = np.array([4, 2, 6])\n",
    "n = 2\n",
    "print(m / n)"
   ]
  },
  {
   "cell_type": "code",
   "execution_count": null,
   "metadata": {},
   "outputs": [],
   "source": [
    "import numpy as np\n",
    "np.array([1, 0, 1]) + np.array([2, 4, 6])"
   ]
  },
  {
   "cell_type": "code",
   "execution_count": null,
   "metadata": {},
   "outputs": [],
   "source": [
    "import numpy as np\n",
    "x = np.array([3, 4, True, False, \"5.2\"])\n",
    "print(x)"
   ]
  },
  {
   "cell_type": "code",
   "execution_count": null,
   "metadata": {},
   "outputs": [],
   "source": [
    "x = [11, 12, 13, 14]\n",
    "y = x\n",
    "y[2:4] = [15, 16]\n",
    "print(x)"
   ]
  },
  {
   "cell_type": "code",
   "execution_count": null,
   "metadata": {},
   "outputs": [],
   "source": [
    "def main():\n",
    "  print (\"Hello World!\")\n",
    "  \n",
    "if __name__== \"__main__\":\n",
    "  main()\n",
    "\n",
    "print (\"Guru99\")"
   ]
  },
  {
   "cell_type": "code",
   "execution_count": null,
   "metadata": {},
   "outputs": [],
   "source": [
    "f = 101;\n",
    "print(f)\n",
    "\n",
    "def somefunction():\n",
    "   # global f\n",
    "   # print(f)\n",
    "    f = \"text f value display in code\"\n",
    "    print(f)\n",
    "\n",
    "somefunction()\n",
    "print(f)"
   ]
  },
  {
   "cell_type": "code",
   "execution_count": null,
   "metadata": {},
   "outputs": [],
   "source": [
    "x = \"Hello World!\"\n",
    "print(x[:6]) \n",
    "print(x[0:6] + \"Guru99\")"
   ]
  },
  {
   "cell_type": "code",
   "execution_count": null,
   "metadata": {},
   "outputs": [],
   "source": [
    "class Length:\n",
    "\n",
    "    __metric = {\"mm\" : 0.001, \"cm\" : 0.01, \"m\" : 1, \"km\" : 1000,\n",
    "                \"in\" : 0.0254, \"ft\" : 0.3048, \"yd\" : 0.9144,\n",
    "                \"mi\" : 1609.344 }\n",
    "    \n",
    "    def __init__(self, value, unit = \"m\" ):\n",
    "        self.value = value\n",
    "        self.unit = unit\n",
    "    \n",
    "    def Converse2Metres(self):\n",
    "        return self.value * Length.__metric[self.unit]\n",
    "    \n",
    "    def __add__(self, other):\n",
    "        l = self.Converse2Metres() + other.Converse2Metres()\n",
    "        return Length(l / Length.__metric[self.unit], self.unit )\n",
    "    \n",
    "    def __str__(self):\n",
    "        return str(self.Converse2Metres())\n",
    "    \n",
    "    def __repr__(self):\n",
    "        return \"Length(\" + str(self.value) + \", '\" + self.unit + \"')\"\n",
    "\n",
    "if __name__ == \"__main__\":\n",
    "    x = Length(4)\n",
    "    print(x)\n",
    "    y = eval(repr(x))\n",
    "\n",
    "    z = Length(4.5, \"yd\") + Length(1)\n",
    "    print(repr(z))\n",
    "    print(z)"
   ]
  },
  {
   "cell_type": "code",
   "execution_count": null,
   "metadata": {},
   "outputs": [],
   "source": []
  }
 ],
 "metadata": {
  "kernelspec": {
   "display_name": "Python 3",
   "language": "python",
   "name": "python3"
  },
  "language_info": {
   "codemirror_mode": {
    "name": "ipython",
    "version": 3
   },
   "file_extension": ".py",
   "mimetype": "text/x-python",
   "name": "python",
   "nbconvert_exporter": "python",
   "pygments_lexer": "ipython3",
   "version": "3.6.5"
  }
 },
 "nbformat": 4,
 "nbformat_minor": 2
}
